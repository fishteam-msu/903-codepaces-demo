{
 "cells": [
  {
   "cell_type": "code",
   "execution_count": 5,
   "metadata": {},
   "outputs": [],
   "source": [
    "# Importing necessary Python packages\n",
    "import os\n",
    "import glob"
   ]
  },
  {
   "cell_type": "code",
   "execution_count": 4,
   "metadata": {},
   "outputs": [
    {
     "name": "stdout",
     "output_type": "stream",
     "text": [
      "Files created successfully!\n"
     ]
    }
   ],
   "source": [
    "# Create a directory to store our files\n",
    "os.makedirs('tutorial-files', exist_ok=True)\n",
    "\n",
    "file_dir = 'tutorial-files'\n",
    "\n",
    "# Create 10 text files\n",
    "for i in range(1, 11):\n",
    "    filename = f'{file_dir}/file_{i}.txt'\n",
    "    with open(filename, 'w') as f:\n",
    "        f.write(f'This is file number {i}')\n",
    "\n",
    "print(\"Files created successfully!\")"
   ]
  },
  {
   "cell_type": "markdown",
   "metadata": {},
   "source": [
    "Now that we have created the files, we are going to use a Python package called `glob` to locate the files so we can rename them in a batch."
   ]
  },
  {
   "cell_type": "code",
   "execution_count": 8,
   "metadata": {},
   "outputs": [
    {
     "name": "stdout",
     "output_type": "stream",
     "text": [
      "tutorial-files/file_3.txt\n",
      "tutorial-files/file_8.txt\n",
      "tutorial-files/file_4.txt\n",
      "tutorial-files/file_10.txt\n",
      "tutorial-files/file_6.txt\n",
      "tutorial-files/file_5.txt\n",
      "tutorial-files/file_2.txt\n",
      "tutorial-files/file_1.txt\n",
      "tutorial-files/file_9.txt\n",
      "tutorial-files/file_7.txt\n",
      "Total files found: 10\n"
     ]
    }
   ],
   "source": [
    "# Find all .txt files in the sample_files directory\n",
    "txt_files = glob.glob(f'{file_dir}/*.txt')\n",
    "\n",
    "# Print the list of files\n",
    "for file in txt_files:\n",
    "    print(file)\n",
    "\n",
    "print(f\"Total files found: {len(txt_files)}\")"
   ]
  },
  {
   "cell_type": "code",
   "execution_count": 9,
   "metadata": {},
   "outputs": [
    {
     "name": "stdout",
     "output_type": "stream",
     "text": [
      "Renamed tutorial-files/file_1.txt to tutorial-files/document_001.txt\n",
      "Renamed tutorial-files/file_10.txt to tutorial-files/document_002.txt\n",
      "Renamed tutorial-files/file_2.txt to tutorial-files/document_003.txt\n",
      "Renamed tutorial-files/file_3.txt to tutorial-files/document_004.txt\n",
      "Renamed tutorial-files/file_4.txt to tutorial-files/document_005.txt\n",
      "Renamed tutorial-files/file_5.txt to tutorial-files/document_006.txt\n",
      "Renamed tutorial-files/file_6.txt to tutorial-files/document_007.txt\n",
      "Renamed tutorial-files/file_7.txt to tutorial-files/document_008.txt\n",
      "Renamed tutorial-files/file_8.txt to tutorial-files/document_009.txt\n",
      "Renamed tutorial-files/file_9.txt to tutorial-files/document_010.txt\n",
      "File renaming complete!\n"
     ]
    }
   ],
   "source": [
    "# Rename files\n",
    "for i, file in enumerate(sorted(txt_files), 1):\n",
    "    # Generate new filename\n",
    "    new_name = f'{file_dir}/document_{i:03d}.txt'\n",
    "    \n",
    "    # Rename the file\n",
    "    os.rename(file, new_name)\n",
    "    print(f\"Renamed {file} to {new_name}\")\n",
    "\n",
    "print(\"File renaming complete!\")"
   ]
  },
  {
   "cell_type": "markdown",
   "metadata": {},
   "source": [
    "Key concepts:\n",
    "* String Formatting: We used f-strings (`f'...'`) for easy string formatting. The `:03d` in `{i:03d}` pads the number with zeros to ensure it's always 3 digits.\n",
    "* `glob`: The `glob.glob()` function returns a list of file paths that match a specified pattern.\n",
    "* `os.rename()`: This function is used to rename files.\n",
    "* `sorted()`: We used `sorted(txt_files)` to ensure the files are processed in order."
   ]
  },
  {
   "cell_type": "markdown",
   "metadata": {},
   "source": []
  }
 ],
 "metadata": {
  "kernelspec": {
   "display_name": "Python 3",
   "language": "python",
   "name": "python3"
  },
  "language_info": {
   "codemirror_mode": {
    "name": "ipython",
    "version": 3
   },
   "file_extension": ".py",
   "mimetype": "text/x-python",
   "name": "python",
   "nbconvert_exporter": "python",
   "pygments_lexer": "ipython3",
   "version": "3.12.1"
  }
 },
 "nbformat": 4,
 "nbformat_minor": 2
}
